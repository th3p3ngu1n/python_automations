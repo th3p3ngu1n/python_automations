{
  "cells": [
    {
      "cell_type": "code",
      "execution_count": 156,
      "source": [
        "import spacy\r\n",
        "import pdfminer\r\n",
        "import re\r\n",
        "import os\r\n",
        "import pandas as pd"
      ],
      "outputs": [],
      "metadata": {}
    },
    {
      "cell_type": "code",
      "execution_count": 157,
      "source": [
        "import pdf2txt"
      ],
      "outputs": [],
      "metadata": {}
    },
    {
      "cell_type": "code",
      "execution_count": 158,
      "source": [
        "def convert_pdf(f):\r\n",
        "    output_filename = os.path.basename(os.path.splitext(f)[0]) + '.txt'\r\n",
        "    output_filepath = os.path.join(\"output/txt/\", output_filename)\r\n",
        "    pdf2txt.main(args=[f, \"--outfile\", output_filepath])\r\n",
        "    print(output_filepath + \" saved successfully!!!\")\r\n",
        "    return open(output_filepath).read()"
      ],
      "outputs": [],
      "metadata": {}
    },
    {
      "cell_type": "code",
      "execution_count": 159,
      "source": [
        "nlp = spacy.load(\"en_core_web_sm\")"
      ],
      "outputs": [],
      "metadata": {}
    },
    {
      "cell_type": "code",
      "execution_count": 160,
      "source": [
        "#phone_num credit https://stackoverflow.com/a/3868861"
      ],
      "outputs": [],
      "metadata": {}
    },
    {
      "cell_type": "code",
      "execution_count": 161,
      "source": [
        "result_dict = {'name': [], 'phone': [], 'email': [], 'skill': []}\r\n",
        "names = []\r\n",
        "phones = []\r\n",
        "emails = []\r\n",
        "skills = []"
      ],
      "outputs": [],
      "metadata": {}
    },
    {
      "cell_type": "code",
      "execution_count": 162,
      "source": [
        "def parse_content(text):\r\n",
        "    skillset = re.compile(\"python|java|sql|hadoop|tableau\")\r\n",
        "    phone_num = re.compile(\"(\\d{3}[-\\.\\s]??\\d{3}[-\\.\\s]??\\d{4}|\\(\\d{3}\\)\\s*\\d{3}[-\\.\\s]??\\d{4}|\\d{3}[-\\.\\s]??\\d{4})\")\r\n",
        "    doc = nlp(text)\r\n",
        "    name = [entity.text for entity in doc.ents if entity.label_ is \"PERSON\"][0]\r\n",
        "    parts = name.split(\" \")\r\n",
        "    name = parts[0] + ' ' + parts[1]\r\n",
        "    print('['+name+']')\r\n",
        "    email = [word for word in doc if word.like_email == True][0]\r\n",
        "    print(email)\r\n",
        "    phone = str(re.findall(phone_num, text.lower()))\r\n",
        "    skills_list = re.findall(skillset, text.lower())\r\n",
        "    unique_skills_list = str(set(skills_list))\r\n",
        "    names.append(name)\r\n",
        "    emails.append(email)\r\n",
        "    phones.append(phone)\r\n",
        "    skills.append(unique_skills_list)\r\n",
        "    print(\"Extraction completed successfully!!!\")"
      ],
      "outputs": [
        {
          "output_type": "stream",
          "name": "stderr",
          "text": [
            "<>:5: SyntaxWarning: \"is\" with a literal. Did you mean \"==\"?\n",
            "<>:5: SyntaxWarning: \"is\" with a literal. Did you mean \"==\"?\n",
            "C:\\Users\\krist\\AppData\\Local\\Temp/ipykernel_11944/2413439028.py:5: SyntaxWarning: \"is\" with a literal. Did you mean \"==\"?\n",
            "  name = [entity.text for entity in doc.ents if entity.label_ is \"PERSON\"][0]\n"
          ]
        }
      ],
      "metadata": {}
    },
    {
      "cell_type": "code",
      "execution_count": 163,
      "source": [
        "for file in os.listdir('resumes/'):\r\n",
        "    if file.endswith('.pdf'):\r\n",
        "        print('Reading...' + file)\r\n",
        "        txt = convert_pdf(os.path.join('resumes/', file))\r\n",
        "        parse_content(txt)"
      ],
      "outputs": [
        {
          "output_type": "stream",
          "name": "stdout",
          "text": [
            "Reading...Alisson ParkerCV.pdf\n",
            "output/txt/Alisson ParkerCV.txt saved successfully!!!\n",
            "[Alisson Parker-Wright]\n",
            "alli1414parks@mail.com\n",
            "Extraction completed successfully!!!\n",
            "Reading...AshleyMilesCV.pdf\n",
            "output/txt/AshleyMilesCV.txt saved successfully!!!\n",
            "[Ashley Miles]\n",
            "ashleymiles@memail.com\n",
            "Extraction completed successfully!!!\n",
            "Reading...John DominicCV.pdf\n",
            "output/txt/John DominicCV.txt saved successfully!!!\n",
            "[John Dominic]\n",
            "johndominic@mail.com\n",
            "Extraction completed successfully!!!\n"
          ]
        }
      ],
      "metadata": {}
    },
    {
      "cell_type": "code",
      "execution_count": 164,
      "source": [
        "result_dict['name'] = names\r\n",
        "result_dict['phone'] = phones\r\n",
        "result_dict['email'] = emails\r\n",
        "result_dict['skill'] = skills\r\n",
        "#print(result_dict)"
      ],
      "outputs": [],
      "metadata": {}
    },
    {
      "cell_type": "code",
      "execution_count": 165,
      "source": [
        "result_df = pd.DataFrame(result_dict)\r\n",
        "result_df"
      ],
      "outputs": [
        {
          "output_type": "execute_result",
          "data": {
            "text/html": [
              "<div>\n",
              "<style scoped>\n",
              "    .dataframe tbody tr th:only-of-type {\n",
              "        vertical-align: middle;\n",
              "    }\n",
              "\n",
              "    .dataframe tbody tr th {\n",
              "        vertical-align: top;\n",
              "    }\n",
              "\n",
              "    .dataframe thead th {\n",
              "        text-align: right;\n",
              "    }\n",
              "</style>\n",
              "<table border=\"1\" class=\"dataframe\">\n",
              "  <thead>\n",
              "    <tr style=\"text-align: right;\">\n",
              "      <th></th>\n",
              "      <th>name</th>\n",
              "      <th>phone</th>\n",
              "      <th>email</th>\n",
              "      <th>skill</th>\n",
              "    </tr>\n",
              "  </thead>\n",
              "  <tbody>\n",
              "    <tr>\n",
              "      <th>0</th>\n",
              "      <td>Alisson Parker-Wright</td>\n",
              "      <td>['8569878511']</td>\n",
              "      <td>alli1414parks@mail.com</td>\n",
              "      <td>{'python', 'java', 'tableau'}</td>\n",
              "    </tr>\n",
              "    <tr>\n",
              "      <th>1</th>\n",
              "      <td>Ashley Miles</td>\n",
              "      <td>['6592251422']</td>\n",
              "      <td>ashleymiles@memail.com</td>\n",
              "      <td>{'sql', 'tableau'}</td>\n",
              "    </tr>\n",
              "    <tr>\n",
              "      <th>2</th>\n",
              "      <td>John Dominic</td>\n",
              "      <td>['7877756411']</td>\n",
              "      <td>johndominic@mail.com</td>\n",
              "      <td>{'python', 'java', 'hadoop'}</td>\n",
              "    </tr>\n",
              "  </tbody>\n",
              "</table>\n",
              "</div>"
            ],
            "text/plain": [
              "                    name           phone                   email  \\\n",
              "0  Alisson Parker-Wright  ['8569878511']  alli1414parks@mail.com   \n",
              "1           Ashley Miles  ['6592251422']  ashleymiles@memail.com   \n",
              "2           John Dominic  ['7877756411']    johndominic@mail.com   \n",
              "\n",
              "                           skill  \n",
              "0  {'python', 'java', 'tableau'}  \n",
              "1             {'sql', 'tableau'}  \n",
              "2   {'python', 'java', 'hadoop'}  "
            ]
          },
          "metadata": {},
          "execution_count": 165
        }
      ],
      "metadata": {}
    },
    {
      "cell_type": "code",
      "execution_count": 166,
      "source": [
        "result_df.to_csv('output/csv/parsed_resumes.csv')"
      ],
      "outputs": [],
      "metadata": {}
    }
  ],
  "metadata": {
    "orig_nbformat": 4,
    "language_info": {
      "name": "python",
      "version": "3.9.7",
      "mimetype": "text/x-python",
      "codemirror_mode": {
        "name": "ipython",
        "version": 3
      },
      "pygments_lexer": "ipython3",
      "nbconvert_exporter": "python",
      "file_extension": ".py"
    },
    "kernelspec": {
      "name": "python3",
      "display_name": "Python 3.9.7 64-bit"
    },
    "interpreter": {
      "hash": "a9c1387708d9e4974b2be20baf1ba03d24dc421de985eaacaca663e211393d73"
    }
  },
  "nbformat": 4,
  "nbformat_minor": 2
}