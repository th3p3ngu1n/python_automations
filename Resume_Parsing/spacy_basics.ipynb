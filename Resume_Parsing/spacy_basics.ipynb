{
 "cells": [
  {
   "cell_type": "markdown",
   "source": [
    "### Loading Library"
   ],
   "metadata": {}
  },
  {
   "cell_type": "code",
   "execution_count": 43,
   "source": [
    "import spacy"
   ],
   "outputs": [],
   "metadata": {}
  },
  {
   "cell_type": "markdown",
   "source": [
    "### Load English tokenizer, tagger, parser, NER and word vectors"
   ],
   "metadata": {}
  },
  {
   "cell_type": "code",
   "execution_count": 44,
   "source": [
    "nlp = spacy.load(\"en_core_web_sm\")"
   ],
   "outputs": [],
   "metadata": {}
  },
  {
   "cell_type": "markdown",
   "source": [
    "### Sample Text"
   ],
   "metadata": {}
  },
  {
   "cell_type": "code",
   "execution_count": 45,
   "source": [
    "\r\n",
    "# Process whole documents\r\n",
    "text = \"Google was initially funded by an August 1998 contribution of $100,000 from Andy Bechtolsheim, co-founder of Sun Microsystems; the money was given before Google was incorporated. [30] Google received money from three other angel investors in 1998: Amazon.com founder Jeff Bezos, Stanford University computer science professor David Cheriton, and entrepreneur Ram Shriram. [31] Between these initial investors, friends, and family Google raised around 1 million dollars, which is what allowed them to open up their original shop in Menlo Park, California\""
   ],
   "outputs": [],
   "metadata": {}
  },
  {
   "cell_type": "code",
   "execution_count": 46,
   "source": [
    "text"
   ],
   "outputs": [
    {
     "output_type": "execute_result",
     "data": {
      "text/plain": [
       "'Google was initially funded by an August 1998 contribution of $100,000 from Andy Bechtolsheim, co-founder of Sun Microsystems; the money was given before Google was incorporated. [30] Google received money from three other angel investors in 1998: Amazon.com founder Jeff Bezos, Stanford University computer science professor David Cheriton, and entrepreneur Ram Shriram. [31] Between these initial investors, friends, and family Google raised around 1 million dollars, which is what allowed them to open up their original shop in Menlo Park, California'"
      ]
     },
     "metadata": {},
     "execution_count": 46
    }
   ],
   "metadata": {}
  },
  {
   "cell_type": "markdown",
   "source": [
    "### NLP at Work"
   ],
   "metadata": {}
  },
  {
   "cell_type": "code",
   "execution_count": 47,
   "source": [
    "doc = nlp(text)"
   ],
   "outputs": [],
   "metadata": {}
  },
  {
   "cell_type": "code",
   "execution_count": 48,
   "source": [
    "doc"
   ],
   "outputs": [
    {
     "output_type": "execute_result",
     "data": {
      "text/plain": [
       "Google was initially funded by an August 1998 contribution of $100,000 from Andy Bechtolsheim, co-founder of Sun Microsystems; the money was given before Google was incorporated. [30] Google received money from three other angel investors in 1998: Amazon.com founder Jeff Bezos, Stanford University computer science professor David Cheriton, and entrepreneur Ram Shriram. [31] Between these initial investors, friends, and family Google raised around 1 million dollars, which is what allowed them to open up their original shop in Menlo Park, California"
      ]
     },
     "metadata": {},
     "execution_count": 48
    }
   ],
   "metadata": {}
  },
  {
   "cell_type": "markdown",
   "source": [
    "### Tokenization"
   ],
   "metadata": {}
  },
  {
   "cell_type": "code",
   "execution_count": 49,
   "source": [
    "for token in doc:\r\n",
    "    print(token)"
   ],
   "outputs": [
    {
     "output_type": "stream",
     "name": "stdout",
     "text": [
      "Google\n",
      "was\n",
      "initially\n",
      "funded\n",
      "by\n",
      "an\n",
      "August\n",
      "1998\n",
      "contribution\n",
      "of\n",
      "$\n",
      "100,000\n",
      "from\n",
      "Andy\n",
      "Bechtolsheim\n",
      ",\n",
      "co\n",
      "-\n",
      "founder\n",
      "of\n",
      "Sun\n",
      "Microsystems\n",
      ";\n",
      "the\n",
      "money\n",
      "was\n",
      "given\n",
      "before\n",
      "Google\n",
      "was\n",
      "incorporated\n",
      ".\n",
      "[\n",
      "30\n",
      "]\n",
      "Google\n",
      "received\n",
      "money\n",
      "from\n",
      "three\n",
      "other\n",
      "angel\n",
      "investors\n",
      "in\n",
      "1998\n",
      ":\n",
      "Amazon.com\n",
      "founder\n",
      "Jeff\n",
      "Bezos\n",
      ",\n",
      "Stanford\n",
      "University\n",
      "computer\n",
      "science\n",
      "professor\n",
      "David\n",
      "Cheriton\n",
      ",\n",
      "and\n",
      "entrepreneur\n",
      "Ram\n",
      "Shriram\n",
      ".\n",
      "[\n",
      "31\n",
      "]\n",
      "Between\n",
      "these\n",
      "initial\n",
      "investors\n",
      ",\n",
      "friends\n",
      ",\n",
      "and\n",
      "family\n",
      "Google\n",
      "raised\n",
      "around\n",
      "1\n",
      "million\n",
      "dollars\n",
      ",\n",
      "which\n",
      "is\n",
      "what\n",
      "allowed\n",
      "them\n",
      "to\n",
      "open\n",
      "up\n",
      "their\n",
      "original\n",
      "shop\n",
      "in\n",
      "Menlo\n",
      "Park\n",
      ",\n",
      "California\n"
     ]
    }
   ],
   "metadata": {}
  },
  {
   "cell_type": "markdown",
   "source": [
    "### Only Noun"
   ],
   "metadata": {}
  },
  {
   "cell_type": "code",
   "execution_count": 50,
   "source": [
    "for token in doc:\r\n",
    "    if token.pos_ == \"NOUN\":\r\n",
    "        print(token)"
   ],
   "outputs": [
    {
     "output_type": "stream",
     "name": "stdout",
     "text": [
      "contribution\n",
      "co\n",
      "-\n",
      "founder\n",
      "money\n",
      "money\n",
      "angel\n",
      "investors\n",
      "founder\n",
      "computer\n",
      "science\n",
      "professor\n",
      "entrepreneur\n",
      "investors\n",
      "friends\n",
      "family\n",
      "dollars\n",
      "shop\n"
     ]
    }
   ],
   "metadata": {}
  },
  {
   "cell_type": "markdown",
   "source": [
    "### Named Entity Recognition"
   ],
   "metadata": {}
  },
  {
   "cell_type": "code",
   "execution_count": 51,
   "source": [
    "for entity in doc.ents:\r\n",
    "    print(entity.text, entity.label_)"
   ],
   "outputs": [
    {
     "output_type": "stream",
     "name": "stdout",
     "text": [
      "August 1998 DATE\n",
      "100,000 MONEY\n",
      "Andy Bechtolsheim PERSON\n",
      "Sun Microsystems ORG\n",
      "Google ORG\n",
      "30 CARDINAL\n",
      "three CARDINAL\n",
      "1998 DATE\n",
      "Amazon.com ORG\n",
      "Jeff Bezos PERSON\n",
      "Stanford University ORG\n",
      "David Cheriton PERSON\n",
      "Ram Shriram PERSON\n",
      "31 CARDINAL\n",
      "Google ORG\n",
      "around 1 million dollars MONEY\n",
      "Menlo Park GPE\n",
      "California GPE\n"
     ]
    }
   ],
   "metadata": {}
  }
 ],
 "metadata": {
  "orig_nbformat": 4,
  "language_info": {
   "name": "python",
   "version": "3.9.7",
   "mimetype": "text/x-python",
   "codemirror_mode": {
    "name": "ipython",
    "version": 3
   },
   "pygments_lexer": "ipython3",
   "nbconvert_exporter": "python",
   "file_extension": ".py"
  },
  "kernelspec": {
   "name": "python3",
   "display_name": "Python 3.9.7 64-bit"
  },
  "interpreter": {
   "hash": "a9c1387708d9e4974b2be20baf1ba03d24dc421de985eaacaca663e211393d73"
  }
 },
 "nbformat": 4,
 "nbformat_minor": 2
}